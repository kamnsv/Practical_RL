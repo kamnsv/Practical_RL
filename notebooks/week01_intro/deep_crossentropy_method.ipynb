{
 "cells": [
  {
   "cell_type": "markdown",
   "metadata": {
    "id": "I_i1q1TWG9zH"
   },
   "source": [
    "# Метод глубокой перекрестной энтропии\n",
    "\n",
    "В этом разделе мы расширим вашу реализацию CEM с помощью нейронных сетей! Вы научите многослойную нейронную сеть решать простые задачи с непрерывным пространством состояний. Пожалуйста, убедитесь, что вы закончили использовать метод трубчатой перекрестной энтропии из предыдущей книги\n",
    "\n",
    "![img](https://watanimg.elwatannews.com/old_news_images/large/249765_Large_20140709045740_11.jpg)\n",
    "\n"
   ]
  },
  {
   "cell_type": "code",
   "execution_count": 1,
   "metadata": {},
   "outputs": [
    {
     "name": "stdout",
     "output_type": "stream",
     "text": [
      "\u001b[31mERROR: pytest-astropy 0.8.0 requires pytest-cov>=2.0, which is not installed.\u001b[0m\r\n",
      "\u001b[31mERROR: pytest-astropy 0.8.0 requires pytest-filter-subpackage>=0.1, which is not installed.\u001b[0m\r\n"
     ]
    }
   ],
   "source": [
    "import sys\n",
    "sys.path.append('/opt/conda/lib/python3.7/site-packages')\n",
    "!pip install \"gymnasium[toy_text,classic_control]\" > /dev/null"
   ]
  },
  {
   "cell_type": "code",
   "execution_count": 14,
   "metadata": {},
   "outputs": [],
   "source": [
    "import os\n",
    "import gymnasium as gym\n",
    "from gymnasium.wrappers import RecordVideo\n",
    "import numpy as np\n",
    "import matplotlib.pyplot as plt\n",
    "from scipy.special import softmax\n",
    "from sklearn.neural_network import MLPClassifier\n",
    "from pathlib import Path\n",
    "from base64 import b64encode\n",
    "from IPython.display import HTML\n",
    "%matplotlib inline"
   ]
  },
  {
   "cell_type": "code",
   "execution_count": 4,
   "metadata": {
    "id": "t4CJ1sRyG9zJ"
   },
   "outputs": [
    {
     "name": "stdout",
     "output_type": "stream",
     "text": [
      "bash: ../xvfb: No such file or directory\r\n"
     ]
    }
   ],
   "source": [
    "if 'google.colab' in sys.modules and not os.path.exists('.setup_complete'):\n",
    "    !wget -q https://raw.githubusercontent.com/yandexdataschool/Practical_RL/master/setup_colab.sh -O- | bash\n",
    "    !touch .setup_complete\n",
    "if type(os.environ.get(\"DISPLAY\")) is not str or len(os.environ.get(\"DISPLAY\")) == 0:\n",
    "    !bash ../xvfb start\n",
    "    os.environ['DISPLAY'] = ':1'"
   ]
  },
  {
   "cell_type": "code",
   "execution_count": 5,
   "metadata": {
    "id": "_2zbc7ahG9zK"
   },
   "outputs": [
    {
     "name": "stdout",
     "output_type": "stream",
     "text": [
      "state vector dim = 4\n",
      "n_actions = 2\n"
     ]
    },
    {
     "name": "stderr",
     "output_type": "stream",
     "text": [
      "/opt/conda/envs/deeplearning/lib/python3.7/site-packages/gymnasium/envs/registration.py:524: DeprecationWarning: \u001b[33mWARN: The environment CartPole-v0 is out of date. You should consider upgrading to version `v1`.\u001b[0m\n",
      "  f\"The environment {env_name} is out of date. You should consider \"\n"
     ]
    },
    {
     "data": {
      "image/png": "[encoded data removed]",
      "text/plain": [
       "<Figure size 640x480 with 1 Axes>"
      ]
     },
     "metadata": {},
     "output_type": "display_data"
    }
   ],
   "source": [
    "env = gym.make(\"CartPole-v0\", render_mode=\"rgb_array\").env\n",
    "\n",
    "env.reset()\n",
    "n_actions = env.action_space.n\n",
    "state_dim = env.observation_space.shape[0]\n",
    "\n",
    "plt.imshow(env.render())\n",
    "print(\"state vector dim =\", state_dim)\n",
    "print(\"n_actions =\", n_actions)\n",
    "\n",
    "env.close()"
   ]
  },
  {
   "cell_type": "markdown",
   "metadata": {
    "id": "Z72_alhdG9zK"
   },
   "source": [
    "# Политика нейронной сети\n",
    "\n",
    "Для этого задания мы будем использовать упрощенную реализацию нейронной сети из __ [Scikit-learn](https://scikit-learn.org/stable/modules/generated/sklearn.neural_network.MLPClassifier.html)__. Вот что вам понадобится:\n",
    "\n",
    "* `agent.partial_fit(состояния, действия)` - выполняет однократный тренировочный проход по данным. Увеличивает вероятность :действий: из :состояний:\n",
    "* `agent.predict_proba(состояния)` - предсказывает вероятности всех действий, используя матрицу вида __[len(состояния), n_actions]__\n"
   ]
  },
  {
   "cell_type": "code",
   "execution_count": 6,
   "metadata": {
    "id": "wLItY4unG9zL"
   },
   "outputs": [
    {
     "data": {
      "text/plain": [
       "MLPClassifier(activation='tanh', hidden_layer_sizes=(20, 20))"
      ]
     },
     "execution_count": 6,
     "metadata": {},
     "output_type": "execute_result"
    }
   ],
   "source": [
    "agent = MLPClassifier(\n",
    "    hidden_layer_sizes=(20, 20),\n",
    "    activation=\"tanh\",\n",
    ")\n",
    "agent.partial_fit([env.reset()[0]] * n_actions, range(n_actions), range(n_actions))"
   ]
  },
  {
   "cell_type": "code",
   "execution_count": 7,
   "metadata": {
    "id": "eyFS3oUmG9zL"
   },
   "outputs": [],
   "source": [
    "def generate_session(env, agent, t_max=1000):\n",
    "    \"\"\"\n",
    "    Сыграйте в одиночную игру, используя агентную нейронную сеть.\n",
    "    Завершите игру, когда она закончится, или после :t_max: шагов\n",
    "    \"\"\"\n",
    "    states, actions = [], []\n",
    "    total_reward = 0\n",
    "\n",
    "    s, _ = env.reset()\n",
    "\n",
    "    for t in range(t_max):\n",
    "        probs = agent.predict_proba([s])[0]\n",
    "        assert probs.shape == (env.action_space.n,), \"make sure probabilities are a vector (hint: np.reshape)\"\n",
    "        a = np.random.choice(np.arange(env.action_space.n), p=probs)\n",
    "        new_s, r, terminated, truncated, _ = env.step(a)\n",
    "        states.append(s)\n",
    "        actions.append(a)\n",
    "        total_reward += r\n",
    "        s = new_s\n",
    "        if terminated or truncated:\n",
    "            break\n",
    "    return states, actions, total_reward"
   ]
  },
  {
   "cell_type": "code",
   "execution_count": 8,
   "metadata": {
    "id": "4xgrTCgJG9zL"
   },
   "outputs": [
    {
     "name": "stdout",
     "output_type": "stream",
     "text": [
      "states: [[-0.01164298  0.02053229  0.01495554  0.02449663]\n",
      " [-0.01123234 -0.1748009   0.01544547  0.32186043]\n",
      " [-0.01472835  0.02009773  0.02188268  0.03408813]\n",
      " [-0.0143264  -0.17533109  0.02256444  0.33359417]\n",
      " [-0.01783302  0.01946256  0.02923633  0.04811145]]\n",
      "actions: [0, 1, 0, 1, 0]\n",
      "reward: 5.0\n"
     ]
    }
   ],
   "source": [
    "dummy_states, dummy_actions, dummy_reward = generate_session(env, agent, t_max=5)\n",
    "print(\"states:\", np.stack(dummy_states))\n",
    "print(\"actions:\", dummy_actions)\n",
    "print(\"reward:\", dummy_reward)\n"
   ]
  },
  {
   "cell_type": "markdown",
   "metadata": {
    "id": "p85lt16qG9zL"
   },
   "source": [
    "### Шаги CEM\n",
    "В Deep CEM используется точно такая же стратегия, как и в обычной игре, поэтому вы можете скопировать свой функциональный код из предыдущего notebook.\n",
    "\n",
    "Единственное отличие заключается в том, что теперь каждое наблюдение представляет собой не число, а вектор с плавающей точкой 32."
   ]
  },
  {
   "cell_type": "code",
   "execution_count": 9,
   "metadata": {
    "id": "4On-p7p4G9zL"
   },
   "outputs": [],
   "source": [
    "def select_elites(states_batch, actions_batch, rewards_batch, percentile=50):\n",
    "    \"\"\"\n",
    "    Выберите состояния и действия из игр, в которых есть награды >= процентиль\n",
    "    :параметр states_batch: список списков состояний, states_batch[session_i][t]\n",
    "    :параметр actions_batch: список списков действий, actions_batch[session_i][t]\n",
    "    :параметр rewards_batch: список вознаграждений, rewards_batch[session_i]\n",
    "\n",
    "    :возвращает: elite_states,elite_actions, как одномерные списки состояний, так и соответствующие действия из элитных сессий\n",
    "\n",
    "    Пожалуйста, верните элитные состояния и действия в их первоначальном порядке\n",
    "    [[т.е. отсортированные по номеру сессии и временному шагу в рамках сессии]\n",
    "\n",
    "    Если вы в замешательстве, посмотрите примеры ниже. Пожалуйста, не думайте, что состояния являются целыми числами\n",
    "    (позже они станут другими).\n",
    "    \"\"\"\n",
    "    reward_threshold = np.percentile(rewards_batch, percentile)\n",
    "    elite_states = []\n",
    "    elite_actions = []\n",
    "    for i in range(len(rewards_batch)):\n",
    "        if rewards_batch[i] >= reward_threshold:\n",
    "            elite_states += states_batch[i]\n",
    "            elite_actions += actions_batch[i]\n",
    "    return elite_states, elite_actions\n"
   ]
  },
  {
   "cell_type": "markdown",
   "metadata": {
    "id": "xc40V4DaG9zM"
   },
   "source": [
    "# Цикл обучения\n",
    "Генерируйте сеансы, выбирайте N наилучших и подходящих для них."
   ]
  },
  {
   "cell_type": "code",
   "execution_count": 10,
   "metadata": {
    "id": "PPwVKwF7G9zM"
   },
   "outputs": [],
   "source": [
    "from IPython.display import clear_output\n",
    "\n",
    "\n",
    "def show_progress(rewards_batch, log, percentile, reward_range=[-990, +10]):\n",
    "    \"\"\"\n",
    "    A convenience function that displays training progress.\n",
    "    No cool math here, just charts.\n",
    "    \"\"\"\n",
    "\n",
    "    mean_reward = np.mean(rewards_batch)\n",
    "    threshold = np.percentile(rewards_batch, percentile)\n",
    "    log.append([mean_reward, threshold])\n",
    "\n",
    "    clear_output(True)\n",
    "    print(\"mean reward = %.3f, threshold=%.3f\" % (mean_reward, threshold))\n",
    "    plt.figure(figsize=[8, 4])\n",
    "    plt.subplot(1, 2, 1)\n",
    "    plt.plot(list(zip(*log))[0], label=\"Mean rewards\")\n",
    "    plt.plot(list(zip(*log))[1], label=\"Reward thresholds\")\n",
    "    plt.legend()\n",
    "    plt.grid()\n",
    "\n",
    "    plt.subplot(1, 2, 2)\n",
    "    plt.hist(rewards_batch, range=reward_range)\n",
    "    plt.vlines(\n",
    "        [np.percentile(rewards_batch, percentile)],\n",
    "        [0],\n",
    "        [100],\n",
    "        label=\"percentile\",\n",
    "        color=\"red\",\n",
    "    )\n",
    "    plt.legend()\n",
    "    plt.grid()\n",
    "\n",
    "    plt.show()\n"
   ]
  },
  {
   "cell_type": "code",
   "execution_count": 11,
   "metadata": {
    "id": "euK7WRQiG9zM"
   },
   "outputs": [
    {
     "name": "stdout",
     "output_type": "stream",
     "text": [
      "mean reward = 230.810, threshold=265.300\n"
     ]
    },
    {
     "data": {
      "image/png": "[encoded data removed]",
      "text/plain": [
       "<Figure size 800x400 with 2 Axes>"
      ]
     },
     "metadata": {},
     "output_type": "display_data"
    },
    {
     "name": "stdout",
     "output_type": "stream",
     "text": [
      "Вы выиграли!\n",
      "CPU times: user 22.1 s, sys: 5.58 s, total: 27.6 s\n",
      "Wall time: 21.5 s\n"
     ]
    }
   ],
   "source": [
    "%%time\n",
    "n_sessions = 100\n",
    "percentile = 70\n",
    "log = []\n",
    "for i in range(100):\n",
    "    sessions = [generate_session(env, agent) for _ in range(n_sessions)]\n",
    "    states_batch, actions_batch, rewards_batch = zip(*sessions)\n",
    "    elite_states, elite_actions = select_elites(states_batch, actions_batch, rewards_batch, percentile)\n",
    "    agent.partial_fit(elite_states, elite_actions)\n",
    "    show_progress(rewards_batch, log, percentile, reward_range=[0, np.max(rewards_batch)])\n",
    "    if np.mean(rewards_batch) > 190:\n",
    "        print(\"Вы выиграли!\")\n",
    "        break"
   ]
  },
  {
   "cell_type": "markdown",
   "metadata": {
    "id": "yeNWKjtsG9zM"
   },
   "source": [
    "# Результаты"
   ]
  },
  {
   "cell_type": "code",
   "execution_count": 17,
   "metadata": {
    "id": "RJwsWl4kG9zM"
   },
   "outputs": [
    {
     "name": "stderr",
     "output_type": "stream",
     "text": [
      "/opt/conda/envs/deeplearning/lib/python3.7/site-packages/gymnasium/envs/registration.py:524: DeprecationWarning: \u001b[33mWARN: The environment CartPole-v0 is out of date. You should consider upgrading to version `v1`.\u001b[0m\n",
      "  f\"The environment {env_name} is out of date. You should consider \"\n"
     ]
    },
    {
     "name": "stdout",
     "output_type": "stream",
     "text": [
      "Moviepy - Building video /notebooks/week01_intro/video/rl-video-episode-0.mp4.\n",
      "Moviepy - Writing video /notebooks/week01_intro/video/rl-video-episode-0.mp4\n",
      "\n"
     ]
    },
    {
     "name": "stderr",
     "output_type": "stream",
     "text": [
      "                                                               \r"
     ]
    },
    {
     "name": "stdout",
     "output_type": "stream",
     "text": [
      "Moviepy - Done !\n",
      "Moviepy - video ready /notebooks/week01_intro/video/rl-video-episode-0.mp4\n",
      "Moviepy - Building video /notebooks/week01_intro/video/rl-video-episode-1.mp4.\n",
      "Moviepy - Writing video /notebooks/week01_intro/video/rl-video-episode-1.mp4\n",
      "\n"
     ]
    },
    {
     "name": "stderr",
     "output_type": "stream",
     "text": [
      "                                                               \r"
     ]
    },
    {
     "name": "stdout",
     "output_type": "stream",
     "text": [
      "Moviepy - Done !\n",
      "Moviepy - video ready /notebooks/week01_intro/video/rl-video-episode-1.mp4\n",
      "Moviepy - Building video /notebooks/week01_intro/video/rl-video-episode-2.mp4.\n",
      "Moviepy - Writing video /notebooks/week01_intro/video/rl-video-episode-2.mp4\n",
      "\n"
     ]
    },
    {
     "name": "stderr",
     "output_type": "stream",
     "text": [
      "                                                             \r"
     ]
    },
    {
     "name": "stdout",
     "output_type": "stream",
     "text": [
      "Moviepy - Done !\n",
      "Moviepy - video ready /notebooks/week01_intro/video/rl-video-episode-2.mp4\n",
      "Moviepy - Building video /notebooks/week01_intro/video/rl-video-episode-3.mp4.\n",
      "Moviepy - Writing video /notebooks/week01_intro/video/rl-video-episode-3.mp4\n",
      "\n"
     ]
    },
    {
     "name": "stderr",
     "output_type": "stream",
     "text": [
      "                                                               \r"
     ]
    },
    {
     "name": "stdout",
     "output_type": "stream",
     "text": [
      "Moviepy - Done !\n",
      "Moviepy - video ready /notebooks/week01_intro/video/rl-video-episode-3.mp4\n",
      "Moviepy - Building video /notebooks/week01_intro/video/rl-video-episode-4.mp4.\n",
      "Moviepy - Writing video /notebooks/week01_intro/video/rl-video-episode-4.mp4\n",
      "\n"
     ]
    },
    {
     "name": "stderr",
     "output_type": "stream",
     "text": [
      "                                                               \r"
     ]
    },
    {
     "name": "stdout",
     "output_type": "stream",
     "text": [
      "Moviepy - Done !\n",
      "Moviepy - video ready /notebooks/week01_intro/video/rl-video-episode-4.mp4\n",
      "Moviepy - Building video /notebooks/week01_intro/video/rl-video-episode-5.mp4.\n",
      "Moviepy - Writing video /notebooks/week01_intro/video/rl-video-episode-5.mp4\n",
      "\n"
     ]
    },
    {
     "name": "stderr",
     "output_type": "stream",
     "text": [
      "                                                               \r"
     ]
    },
    {
     "name": "stdout",
     "output_type": "stream",
     "text": [
      "Moviepy - Done !\n",
      "Moviepy - video ready /notebooks/week01_intro/video/rl-video-episode-5.mp4\n",
      "Moviepy - Building video /notebooks/week01_intro/video/rl-video-episode-6.mp4.\n",
      "Moviepy - Writing video /notebooks/week01_intro/video/rl-video-episode-6.mp4\n",
      "\n"
     ]
    },
    {
     "name": "stderr",
     "output_type": "stream",
     "text": [
      "                                                               \r"
     ]
    },
    {
     "name": "stdout",
     "output_type": "stream",
     "text": [
      "Moviepy - Done !\n",
      "Moviepy - video ready /notebooks/week01_intro/video/rl-video-episode-6.mp4\n",
      "Moviepy - Building video /notebooks/week01_intro/video/rl-video-episode-7.mp4.\n",
      "Moviepy - Writing video /notebooks/week01_intro/video/rl-video-episode-7.mp4\n",
      "\n"
     ]
    },
    {
     "name": "stderr",
     "output_type": "stream",
     "text": [
      "                                                               \r"
     ]
    },
    {
     "name": "stdout",
     "output_type": "stream",
     "text": [
      "Moviepy - Done !\n",
      "Moviepy - video ready /notebooks/week01_intro/video/rl-video-episode-7.mp4\n",
      "Moviepy - Building video /notebooks/week01_intro/video/rl-video-episode-8.mp4.\n",
      "Moviepy - Writing video /notebooks/week01_intro/video/rl-video-episode-8.mp4\n",
      "\n"
     ]
    },
    {
     "name": "stderr",
     "output_type": "stream",
     "text": [
      "                                                               \r"
     ]
    },
    {
     "name": "stdout",
     "output_type": "stream",
     "text": [
      "Moviepy - Done !\n",
      "Moviepy - video ready /notebooks/week01_intro/video/rl-video-episode-8.mp4\n",
      "Moviepy - Building video /notebooks/week01_intro/video/rl-video-episode-9.mp4.\n",
      "Moviepy - Writing video /notebooks/week01_intro/video/rl-video-episode-9.mp4\n",
      "\n"
     ]
    },
    {
     "name": "stderr",
     "output_type": "stream",
     "text": [
      "                                                               \r"
     ]
    },
    {
     "name": "stdout",
     "output_type": "stream",
     "text": [
      "Moviepy - Done !\n",
      "Moviepy - video ready /notebooks/week01_intro/video/rl-video-episode-9.mp4\n",
      "Moviepy - Building video /notebooks/week01_intro/video/rl-video-episode-10.mp4.\n",
      "Moviepy - Writing video /notebooks/week01_intro/video/rl-video-episode-10.mp4\n",
      "\n"
     ]
    },
    {
     "name": "stderr",
     "output_type": "stream",
     "text": [
      "                                                   \r"
     ]
    },
    {
     "name": "stdout",
     "output_type": "stream",
     "text": [
      "Moviepy - Done !\n",
      "Moviepy - video ready /notebooks/week01_intro/video/rl-video-episode-10.mp4\n",
      "Moviepy - Building video /notebooks/week01_intro/video/rl-video-episode-11.mp4.\n",
      "Moviepy - Writing video /notebooks/week01_intro/video/rl-video-episode-11.mp4\n",
      "\n"
     ]
    },
    {
     "name": "stderr",
     "output_type": "stream",
     "text": [
      "                                                               \r"
     ]
    },
    {
     "name": "stdout",
     "output_type": "stream",
     "text": [
      "Moviepy - Done !\n",
      "Moviepy - video ready /notebooks/week01_intro/video/rl-video-episode-11.mp4\n",
      "Moviepy - Building video /notebooks/week01_intro/video/rl-video-episode-12.mp4.\n",
      "Moviepy - Writing video /notebooks/week01_intro/video/rl-video-episode-12.mp4\n",
      "\n"
     ]
    },
    {
     "name": "stderr",
     "output_type": "stream",
     "text": [
      "                                                               \r"
     ]
    },
    {
     "name": "stdout",
     "output_type": "stream",
     "text": [
      "Moviepy - Done !\n",
      "Moviepy - video ready /notebooks/week01_intro/video/rl-video-episode-12.mp4\n",
      "Moviepy - Building video /notebooks/week01_intro/video/rl-video-episode-13.mp4.\n",
      "Moviepy - Writing video /notebooks/week01_intro/video/rl-video-episode-13.mp4\n",
      "\n"
     ]
    },
    {
     "name": "stderr",
     "output_type": "stream",
     "text": [
      "                                                               \r"
     ]
    },
    {
     "name": "stdout",
     "output_type": "stream",
     "text": [
      "Moviepy - Done !\n",
      "Moviepy - video ready /notebooks/week01_intro/video/rl-video-episode-13.mp4\n",
      "Moviepy - Building video /notebooks/week01_intro/video/rl-video-episode-14.mp4.\n",
      "Moviepy - Writing video /notebooks/week01_intro/video/rl-video-episode-14.mp4\n",
      "\n"
     ]
    },
    {
     "name": "stderr",
     "output_type": "stream",
     "text": [
      "                                                               \r"
     ]
    },
    {
     "name": "stdout",
     "output_type": "stream",
     "text": [
      "Moviepy - Done !\n",
      "Moviepy - video ready /notebooks/week01_intro/video/rl-video-episode-14.mp4\n",
      "Moviepy - Building video /notebooks/week01_intro/video/rl-video-episode-15.mp4.\n",
      "Moviepy - Writing video /notebooks/week01_intro/video/rl-video-episode-15.mp4\n",
      "\n"
     ]
    },
    {
     "name": "stderr",
     "output_type": "stream",
     "text": [
      "                                                               \r"
     ]
    },
    {
     "name": "stdout",
     "output_type": "stream",
     "text": [
      "Moviepy - Done !\n",
      "Moviepy - video ready /notebooks/week01_intro/video/rl-video-episode-15.mp4\n",
      "Moviepy - Building video /notebooks/week01_intro/video/rl-video-episode-16.mp4.\n",
      "Moviepy - Writing video /notebooks/week01_intro/video/rl-video-episode-16.mp4\n",
      "\n"
     ]
    },
    {
     "name": "stderr",
     "output_type": "stream",
     "text": [
      "                                                               \r"
     ]
    },
    {
     "name": "stdout",
     "output_type": "stream",
     "text": [
      "Moviepy - Done !\n",
      "Moviepy - video ready /notebooks/week01_intro/video/rl-video-episode-16.mp4\n",
      "Moviepy - Building video /notebooks/week01_intro/video/rl-video-episode-17.mp4.\n",
      "Moviepy - Writing video /notebooks/week01_intro/video/rl-video-episode-17.mp4\n",
      "\n"
     ]
    },
    {
     "name": "stderr",
     "output_type": "stream",
     "text": [
      "                                                               \r"
     ]
    },
    {
     "name": "stdout",
     "output_type": "stream",
     "text": [
      "Moviepy - Done !\n",
      "Moviepy - video ready /notebooks/week01_intro/video/rl-video-episode-17.mp4\n",
      "Moviepy - Building video /notebooks/week01_intro/video/rl-video-episode-18.mp4.\n",
      "Moviepy - Writing video /notebooks/week01_intro/video/rl-video-episode-18.mp4\n",
      "\n"
     ]
    },
    {
     "name": "stderr",
     "output_type": "stream",
     "text": [
      "                                                               \r"
     ]
    },
    {
     "name": "stdout",
     "output_type": "stream",
     "text": [
      "Moviepy - Done !\n",
      "Moviepy - video ready /notebooks/week01_intro/video/rl-video-episode-18.mp4\n",
      "Moviepy - Building video /notebooks/week01_intro/video/rl-video-episode-19.mp4.\n",
      "Moviepy - Writing video /notebooks/week01_intro/video/rl-video-episode-19.mp4\n",
      "\n"
     ]
    },
    {
     "name": "stderr",
     "output_type": "stream",
     "text": [
      "                                                               \r"
     ]
    },
    {
     "name": "stdout",
     "output_type": "stream",
     "text": [
      "Moviepy - Done !\n",
      "Moviepy - video ready /notebooks/week01_intro/video/rl-video-episode-19.mp4\n",
      "Moviepy - Building video /notebooks/week01_intro/video/rl-video-episode-20.mp4.\n",
      "Moviepy - Writing video /notebooks/week01_intro/video/rl-video-episode-20.mp4\n",
      "\n"
     ]
    },
    {
     "name": "stderr",
     "output_type": "stream",
     "text": [
      "                                                               \r"
     ]
    },
    {
     "name": "stdout",
     "output_type": "stream",
     "text": [
      "Moviepy - Done !\n",
      "Moviepy - video ready /notebooks/week01_intro/video/rl-video-episode-20.mp4\n",
      "Moviepy - Building video /notebooks/week01_intro/video/rl-video-episode-21.mp4.\n",
      "Moviepy - Writing video /notebooks/week01_intro/video/rl-video-episode-21.mp4\n",
      "\n"
     ]
    },
    {
     "name": "stderr",
     "output_type": "stream",
     "text": [
      "                                                               \r"
     ]
    },
    {
     "name": "stdout",
     "output_type": "stream",
     "text": [
      "Moviepy - Done !\n",
      "Moviepy - video ready /notebooks/week01_intro/video/rl-video-episode-21.mp4\n",
      "Moviepy - Building video /notebooks/week01_intro/video/rl-video-episode-22.mp4.\n",
      "Moviepy - Writing video /notebooks/week01_intro/video/rl-video-episode-22.mp4\n",
      "\n"
     ]
    },
    {
     "name": "stderr",
     "output_type": "stream",
     "text": [
      "                                                               \r"
     ]
    },
    {
     "name": "stdout",
     "output_type": "stream",
     "text": [
      "Moviepy - Done !\n",
      "Moviepy - video ready /notebooks/week01_intro/video/rl-video-episode-22.mp4\n",
      "Moviepy - Building video /notebooks/week01_intro/video/rl-video-episode-23.mp4.\n",
      "Moviepy - Writing video /notebooks/week01_intro/video/rl-video-episode-23.mp4\n",
      "\n"
     ]
    },
    {
     "name": "stderr",
     "output_type": "stream",
     "text": [
      "                                                   \r"
     ]
    },
    {
     "name": "stdout",
     "output_type": "stream",
     "text": [
      "Moviepy - Done !\n",
      "Moviepy - video ready /notebooks/week01_intro/video/rl-video-episode-23.mp4\n",
      "Moviepy - Building video /notebooks/week01_intro/video/rl-video-episode-24.mp4.\n",
      "Moviepy - Writing video /notebooks/week01_intro/video/rl-video-episode-24.mp4\n",
      "\n"
     ]
    },
    {
     "name": "stderr",
     "output_type": "stream",
     "text": [
      "                                                               \r"
     ]
    },
    {
     "name": "stdout",
     "output_type": "stream",
     "text": [
      "Moviepy - Done !\n",
      "Moviepy - video ready /notebooks/week01_intro/video/rl-video-episode-24.mp4\n",
      "Moviepy - Building video /notebooks/week01_intro/video/rl-video-episode-25.mp4.\n",
      "Moviepy - Writing video /notebooks/week01_intro/video/rl-video-episode-25.mp4\n",
      "\n"
     ]
    },
    {
     "name": "stderr",
     "output_type": "stream",
     "text": [
      "                                                               \r"
     ]
    },
    {
     "name": "stdout",
     "output_type": "stream",
     "text": [
      "Moviepy - Done !\n",
      "Moviepy - video ready /notebooks/week01_intro/video/rl-video-episode-25.mp4\n",
      "Moviepy - Building video /notebooks/week01_intro/video/rl-video-episode-26.mp4.\n",
      "Moviepy - Writing video /notebooks/week01_intro/video/rl-video-episode-26.mp4\n",
      "\n"
     ]
    },
    {
     "name": "stderr",
     "output_type": "stream",
     "text": [
      "                                                               \r"
     ]
    },
    {
     "name": "stdout",
     "output_type": "stream",
     "text": [
      "Moviepy - Done !\n",
      "Moviepy - video ready /notebooks/week01_intro/video/rl-video-episode-26.mp4\n",
      "Moviepy - Building video /notebooks/week01_intro/video/rl-video-episode-27.mp4.\n",
      "Moviepy - Writing video /notebooks/week01_intro/video/rl-video-episode-27.mp4\n",
      "\n"
     ]
    },
    {
     "name": "stderr",
     "output_type": "stream",
     "text": [
      "                                                               \r"
     ]
    },
    {
     "name": "stdout",
     "output_type": "stream",
     "text": [
      "Moviepy - Done !\n",
      "Moviepy - video ready /notebooks/week01_intro/video/rl-video-episode-27.mp4\n",
      "Moviepy - Building video /notebooks/week01_intro/video/rl-video-episode-28.mp4.\n",
      "Moviepy - Writing video /notebooks/week01_intro/video/rl-video-episode-28.mp4\n",
      "\n"
     ]
    },
    {
     "name": "stderr",
     "output_type": "stream",
     "text": [
      "                                                               \r"
     ]
    },
    {
     "name": "stdout",
     "output_type": "stream",
     "text": [
      "Moviepy - Done !\n",
      "Moviepy - video ready /notebooks/week01_intro/video/rl-video-episode-28.mp4\n",
      "Moviepy - Building video /notebooks/week01_intro/video/rl-video-episode-29.mp4.\n",
      "Moviepy - Writing video /notebooks/week01_intro/video/rl-video-episode-29.mp4\n",
      "\n"
     ]
    },
    {
     "name": "stderr",
     "output_type": "stream",
     "text": [
      "                                                               \r"
     ]
    },
    {
     "name": "stdout",
     "output_type": "stream",
     "text": [
      "Moviepy - Done !\n",
      "Moviepy - video ready /notebooks/week01_intro/video/rl-video-episode-29.mp4\n",
      "Moviepy - Building video /notebooks/week01_intro/video/rl-video-episode-30.mp4.\n",
      "Moviepy - Writing video /notebooks/week01_intro/video/rl-video-episode-30.mp4\n",
      "\n"
     ]
    },
    {
     "name": "stderr",
     "output_type": "stream",
     "text": [
      "                                                               \r"
     ]
    },
    {
     "name": "stdout",
     "output_type": "stream",
     "text": [
      "Moviepy - Done !\n",
      "Moviepy - video ready /notebooks/week01_intro/video/rl-video-episode-30.mp4\n",
      "Moviepy - Building video /notebooks/week01_intro/video/rl-video-episode-31.mp4.\n",
      "Moviepy - Writing video /notebooks/week01_intro/video/rl-video-episode-31.mp4\n",
      "\n"
     ]
    },
    {
     "name": "stderr",
     "output_type": "stream",
     "text": [
      "                                                               \r"
     ]
    },
    {
     "name": "stdout",
     "output_type": "stream",
     "text": [
      "Moviepy - Done !\n",
      "Moviepy - video ready /notebooks/week01_intro/video/rl-video-episode-31.mp4\n",
      "Moviepy - Building video /notebooks/week01_intro/video/rl-video-episode-32.mp4.\n",
      "Moviepy - Writing video /notebooks/week01_intro/video/rl-video-episode-32.mp4\n",
      "\n"
     ]
    },
    {
     "name": "stderr",
     "output_type": "stream",
     "text": [
      "                                                               \r"
     ]
    },
    {
     "name": "stdout",
     "output_type": "stream",
     "text": [
      "Moviepy - Done !\n",
      "Moviepy - video ready /notebooks/week01_intro/video/rl-video-episode-32.mp4\n",
      "Moviepy - Building video /notebooks/week01_intro/video/rl-video-episode-33.mp4.\n",
      "Moviepy - Writing video /notebooks/week01_intro/video/rl-video-episode-33.mp4\n",
      "\n"
     ]
    },
    {
     "name": "stderr",
     "output_type": "stream",
     "text": [
      "                                                               \r"
     ]
    },
    {
     "name": "stdout",
     "output_type": "stream",
     "text": [
      "Moviepy - Done !\n",
      "Moviepy - video ready /notebooks/week01_intro/video/rl-video-episode-33.mp4\n",
      "Moviepy - Building video /notebooks/week01_intro/video/rl-video-episode-34.mp4.\n",
      "Moviepy - Writing video /notebooks/week01_intro/video/rl-video-episode-34.mp4\n",
      "\n"
     ]
    },
    {
     "name": "stderr",
     "output_type": "stream",
     "text": [
      "                                                               \r"
     ]
    },
    {
     "name": "stdout",
     "output_type": "stream",
     "text": [
      "Moviepy - Done !\n",
      "Moviepy - video ready /notebooks/week01_intro/video/rl-video-episode-34.mp4\n",
      "Moviepy - Building video /notebooks/week01_intro/video/rl-video-episode-35.mp4.\n",
      "Moviepy - Writing video /notebooks/week01_intro/video/rl-video-episode-35.mp4\n",
      "\n"
     ]
    },
    {
     "name": "stderr",
     "output_type": "stream",
     "text": [
      "                                                              \r"
     ]
    },
    {
     "name": "stdout",
     "output_type": "stream",
     "text": [
      "Moviepy - Done !\n",
      "Moviepy - video ready /notebooks/week01_intro/video/rl-video-episode-35.mp4\n",
      "Moviepy - Building video /notebooks/week01_intro/video/rl-video-episode-36.mp4.\n",
      "Moviepy - Writing video /notebooks/week01_intro/video/rl-video-episode-36.mp4\n",
      "\n"
     ]
    },
    {
     "name": "stderr",
     "output_type": "stream",
     "text": [
      "                                                               \r"
     ]
    },
    {
     "name": "stdout",
     "output_type": "stream",
     "text": [
      "Moviepy - Done !\n",
      "Moviepy - video ready /notebooks/week01_intro/video/rl-video-episode-36.mp4\n",
      "Moviepy - Building video /notebooks/week01_intro/video/rl-video-episode-37.mp4.\n",
      "Moviepy - Writing video /notebooks/week01_intro/video/rl-video-episode-37.mp4\n",
      "\n"
     ]
    },
    {
     "name": "stderr",
     "output_type": "stream",
     "text": [
      "                                                               \r"
     ]
    },
    {
     "name": "stdout",
     "output_type": "stream",
     "text": [
      "Moviepy - Done !\n",
      "Moviepy - video ready /notebooks/week01_intro/video/rl-video-episode-37.mp4\n",
      "Moviepy - Building video /notebooks/week01_intro/video/rl-video-episode-38.mp4.\n",
      "Moviepy - Writing video /notebooks/week01_intro/video/rl-video-episode-38.mp4\n",
      "\n"
     ]
    },
    {
     "name": "stderr",
     "output_type": "stream",
     "text": [
      "                                                               \r"
     ]
    },
    {
     "name": "stdout",
     "output_type": "stream",
     "text": [
      "Moviepy - Done !\n",
      "Moviepy - video ready /notebooks/week01_intro/video/rl-video-episode-38.mp4\n",
      "Moviepy - Building video /notebooks/week01_intro/video/rl-video-episode-39.mp4.\n",
      "Moviepy - Writing video /notebooks/week01_intro/video/rl-video-episode-39.mp4\n",
      "\n"
     ]
    },
    {
     "name": "stderr",
     "output_type": "stream",
     "text": [
      "                                                               \r"
     ]
    },
    {
     "name": "stdout",
     "output_type": "stream",
     "text": [
      "Moviepy - Done !\n",
      "Moviepy - video ready /notebooks/week01_intro/video/rl-video-episode-39.mp4\n",
      "Moviepy - Building video /notebooks/week01_intro/video/rl-video-episode-40.mp4.\n",
      "Moviepy - Writing video /notebooks/week01_intro/video/rl-video-episode-40.mp4\n",
      "\n"
     ]
    },
    {
     "name": "stderr",
     "output_type": "stream",
     "text": [
      "                                                              \r"
     ]
    },
    {
     "name": "stdout",
     "output_type": "stream",
     "text": [
      "Moviepy - Done !\n",
      "Moviepy - video ready /notebooks/week01_intro/video/rl-video-episode-40.mp4\n",
      "Moviepy - Building video /notebooks/week01_intro/video/rl-video-episode-41.mp4.\n",
      "Moviepy - Writing video /notebooks/week01_intro/video/rl-video-episode-41.mp4\n",
      "\n"
     ]
    },
    {
     "name": "stderr",
     "output_type": "stream",
     "text": [
      "                                                               \r"
     ]
    },
    {
     "name": "stdout",
     "output_type": "stream",
     "text": [
      "Moviepy - Done !\n",
      "Moviepy - video ready /notebooks/week01_intro/video/rl-video-episode-41.mp4\n",
      "Moviepy - Building video /notebooks/week01_intro/video/rl-video-episode-42.mp4.\n",
      "Moviepy - Writing video /notebooks/week01_intro/video/rl-video-episode-42.mp4\n",
      "\n"
     ]
    },
    {
     "name": "stderr",
     "output_type": "stream",
     "text": [
      "                                                               \r"
     ]
    },
    {
     "name": "stdout",
     "output_type": "stream",
     "text": [
      "Moviepy - Done !\n",
      "Moviepy - video ready /notebooks/week01_intro/video/rl-video-episode-42.mp4\n",
      "Moviepy - Building video /notebooks/week01_intro/video/rl-video-episode-43.mp4.\n",
      "Moviepy - Writing video /notebooks/week01_intro/video/rl-video-episode-43.mp4\n",
      "\n"
     ]
    },
    {
     "name": "stderr",
     "output_type": "stream",
     "text": [
      "                                                              \r"
     ]
    },
    {
     "name": "stdout",
     "output_type": "stream",
     "text": [
      "Moviepy - Done !\n",
      "Moviepy - video ready /notebooks/week01_intro/video/rl-video-episode-43.mp4\n",
      "Moviepy - Building video /notebooks/week01_intro/video/rl-video-episode-44.mp4.\n",
      "Moviepy - Writing video /notebooks/week01_intro/video/rl-video-episode-44.mp4\n",
      "\n"
     ]
    },
    {
     "name": "stderr",
     "output_type": "stream",
     "text": [
      "                                                              \r"
     ]
    },
    {
     "name": "stdout",
     "output_type": "stream",
     "text": [
      "Moviepy - Done !\n",
      "Moviepy - video ready /notebooks/week01_intro/video/rl-video-episode-44.mp4\n",
      "Moviepy - Building video /notebooks/week01_intro/video/rl-video-episode-45.mp4.\n",
      "Moviepy - Writing video /notebooks/week01_intro/video/rl-video-episode-45.mp4\n",
      "\n"
     ]
    },
    {
     "name": "stderr",
     "output_type": "stream",
     "text": [
      "                                                               \r"
     ]
    },
    {
     "name": "stdout",
     "output_type": "stream",
     "text": [
      "Moviepy - Done !\n",
      "Moviepy - video ready /notebooks/week01_intro/video/rl-video-episode-45.mp4\n",
      "Moviepy - Building video /notebooks/week01_intro/video/rl-video-episode-46.mp4.\n",
      "Moviepy - Writing video /notebooks/week01_intro/video/rl-video-episode-46.mp4\n",
      "\n"
     ]
    },
    {
     "name": "stderr",
     "output_type": "stream",
     "text": [
      "                                                               \r"
     ]
    },
    {
     "name": "stdout",
     "output_type": "stream",
     "text": [
      "Moviepy - Done !\n",
      "Moviepy - video ready /notebooks/week01_intro/video/rl-video-episode-46.mp4\n",
      "Moviepy - Building video /notebooks/week01_intro/video/rl-video-episode-47.mp4.\n",
      "Moviepy - Writing video /notebooks/week01_intro/video/rl-video-episode-47.mp4\n",
      "\n"
     ]
    },
    {
     "name": "stderr",
     "output_type": "stream",
     "text": [
      "                                                             \r"
     ]
    },
    {
     "name": "stdout",
     "output_type": "stream",
     "text": [
      "Moviepy - Done !\n",
      "Moviepy - video ready /notebooks/week01_intro/video/rl-video-episode-47.mp4\n",
      "Moviepy - Building video /notebooks/week01_intro/video/rl-video-episode-48.mp4.\n",
      "Moviepy - Writing video /notebooks/week01_intro/video/rl-video-episode-48.mp4\n",
      "\n"
     ]
    },
    {
     "name": "stderr",
     "output_type": "stream",
     "text": [
      "                                                               \r"
     ]
    },
    {
     "name": "stdout",
     "output_type": "stream",
     "text": [
      "Moviepy - Done !\n",
      "Moviepy - video ready /notebooks/week01_intro/video/rl-video-episode-48.mp4\n",
      "Moviepy - Building video /notebooks/week01_intro/video/rl-video-episode-49.mp4.\n",
      "Moviepy - Writing video /notebooks/week01_intro/video/rl-video-episode-49.mp4\n",
      "\n"
     ]
    },
    {
     "name": "stderr",
     "output_type": "stream",
     "text": [
      "                                                               \r"
     ]
    },
    {
     "name": "stdout",
     "output_type": "stream",
     "text": [
      "Moviepy - Done !\n",
      "Moviepy - video ready /notebooks/week01_intro/video/rl-video-episode-49.mp4\n",
      "Moviepy - Building video /notebooks/week01_intro/video/rl-video-episode-50.mp4.\n",
      "Moviepy - Writing video /notebooks/week01_intro/video/rl-video-episode-50.mp4\n",
      "\n"
     ]
    },
    {
     "name": "stderr",
     "output_type": "stream",
     "text": [
      "                                                               \r"
     ]
    },
    {
     "name": "stdout",
     "output_type": "stream",
     "text": [
      "Moviepy - Done !\n",
      "Moviepy - video ready /notebooks/week01_intro/video/rl-video-episode-50.mp4\n",
      "Moviepy - Building video /notebooks/week01_intro/video/rl-video-episode-51.mp4.\n",
      "Moviepy - Writing video /notebooks/week01_intro/video/rl-video-episode-51.mp4\n",
      "\n"
     ]
    },
    {
     "name": "stderr",
     "output_type": "stream",
     "text": [
      "                                                               \r"
     ]
    },
    {
     "name": "stdout",
     "output_type": "stream",
     "text": [
      "Moviepy - Done !\n",
      "Moviepy - video ready /notebooks/week01_intro/video/rl-video-episode-51.mp4\n",
      "Moviepy - Building video /notebooks/week01_intro/video/rl-video-episode-52.mp4.\n",
      "Moviepy - Writing video /notebooks/week01_intro/video/rl-video-episode-52.mp4\n",
      "\n"
     ]
    },
    {
     "name": "stderr",
     "output_type": "stream",
     "text": [
      "                                                               \r"
     ]
    },
    {
     "name": "stdout",
     "output_type": "stream",
     "text": [
      "Moviepy - Done !\n",
      "Moviepy - video ready /notebooks/week01_intro/video/rl-video-episode-52.mp4\n",
      "Moviepy - Building video /notebooks/week01_intro/video/rl-video-episode-53.mp4.\n",
      "Moviepy - Writing video /notebooks/week01_intro/video/rl-video-episode-53.mp4\n",
      "\n"
     ]
    },
    {
     "name": "stderr",
     "output_type": "stream",
     "text": [
      "                                                               \r"
     ]
    },
    {
     "name": "stdout",
     "output_type": "stream",
     "text": [
      "Moviepy - Done !\n",
      "Moviepy - video ready /notebooks/week01_intro/video/rl-video-episode-53.mp4\n",
      "Moviepy - Building video /notebooks/week01_intro/video/rl-video-episode-54.mp4.\n",
      "Moviepy - Writing video /notebooks/week01_intro/video/rl-video-episode-54.mp4\n",
      "\n"
     ]
    },
    {
     "name": "stderr",
     "output_type": "stream",
     "text": [
      "                                                               \r"
     ]
    },
    {
     "name": "stdout",
     "output_type": "stream",
     "text": [
      "Moviepy - Done !\n",
      "Moviepy - video ready /notebooks/week01_intro/video/rl-video-episode-54.mp4\n",
      "Moviepy - Building video /notebooks/week01_intro/video/rl-video-episode-55.mp4.\n",
      "Moviepy - Writing video /notebooks/week01_intro/video/rl-video-episode-55.mp4\n",
      "\n"
     ]
    },
    {
     "name": "stderr",
     "output_type": "stream",
     "text": [
      "                                                               \r"
     ]
    },
    {
     "name": "stdout",
     "output_type": "stream",
     "text": [
      "Moviepy - Done !\n",
      "Moviepy - video ready /notebooks/week01_intro/video/rl-video-episode-55.mp4\n",
      "Moviepy - Building video /notebooks/week01_intro/video/rl-video-episode-56.mp4.\n",
      "Moviepy - Writing video /notebooks/week01_intro/video/rl-video-episode-56.mp4\n",
      "\n"
     ]
    },
    {
     "name": "stderr",
     "output_type": "stream",
     "text": [
      "                                                               \r"
     ]
    },
    {
     "name": "stdout",
     "output_type": "stream",
     "text": [
      "Moviepy - Done !\n",
      "Moviepy - video ready /notebooks/week01_intro/video/rl-video-episode-56.mp4\n",
      "Moviepy - Building video /notebooks/week01_intro/video/rl-video-episode-57.mp4.\n",
      "Moviepy - Writing video /notebooks/week01_intro/video/rl-video-episode-57.mp4\n",
      "\n"
     ]
    },
    {
     "name": "stderr",
     "output_type": "stream",
     "text": [
      "                                                               \r"
     ]
    },
    {
     "name": "stdout",
     "output_type": "stream",
     "text": [
      "Moviepy - Done !\n",
      "Moviepy - video ready /notebooks/week01_intro/video/rl-video-episode-57.mp4\n",
      "Moviepy - Building video /notebooks/week01_intro/video/rl-video-episode-58.mp4.\n",
      "Moviepy - Writing video /notebooks/week01_intro/video/rl-video-episode-58.mp4\n",
      "\n"
     ]
    },
    {
     "name": "stderr",
     "output_type": "stream",
     "text": [
      "                                                               \r"
     ]
    },
    {
     "name": "stdout",
     "output_type": "stream",
     "text": [
      "Moviepy - Done !\n",
      "Moviepy - video ready /notebooks/week01_intro/video/rl-video-episode-58.mp4\n",
      "Moviepy - Building video /notebooks/week01_intro/video/rl-video-episode-59.mp4.\n",
      "Moviepy - Writing video /notebooks/week01_intro/video/rl-video-episode-59.mp4\n",
      "\n"
     ]
    },
    {
     "name": "stderr",
     "output_type": "stream",
     "text": [
      "                                                               \r"
     ]
    },
    {
     "name": "stdout",
     "output_type": "stream",
     "text": [
      "Moviepy - Done !\n",
      "Moviepy - video ready /notebooks/week01_intro/video/rl-video-episode-59.mp4\n",
      "Moviepy - Building video /notebooks/week01_intro/video/rl-video-episode-60.mp4.\n",
      "Moviepy - Writing video /notebooks/week01_intro/video/rl-video-episode-60.mp4\n",
      "\n"
     ]
    },
    {
     "name": "stderr",
     "output_type": "stream",
     "text": [
      "                                                               \r"
     ]
    },
    {
     "name": "stdout",
     "output_type": "stream",
     "text": [
      "Moviepy - Done !\n",
      "Moviepy - video ready /notebooks/week01_intro/video/rl-video-episode-60.mp4\n",
      "Moviepy - Building video /notebooks/week01_intro/video/rl-video-episode-61.mp4.\n",
      "Moviepy - Writing video /notebooks/week01_intro/video/rl-video-episode-61.mp4\n",
      "\n"
     ]
    },
    {
     "name": "stderr",
     "output_type": "stream",
     "text": [
      "                                                             \r"
     ]
    },
    {
     "name": "stdout",
     "output_type": "stream",
     "text": [
      "Moviepy - Done !\n",
      "Moviepy - video ready /notebooks/week01_intro/video/rl-video-episode-61.mp4\n",
      "Moviepy - Building video /notebooks/week01_intro/video/rl-video-episode-62.mp4.\n",
      "Moviepy - Writing video /notebooks/week01_intro/video/rl-video-episode-62.mp4\n",
      "\n"
     ]
    },
    {
     "name": "stderr",
     "output_type": "stream",
     "text": [
      "                                                               \r"
     ]
    },
    {
     "name": "stdout",
     "output_type": "stream",
     "text": [
      "Moviepy - Done !\n",
      "Moviepy - video ready /notebooks/week01_intro/video/rl-video-episode-62.mp4\n",
      "Moviepy - Building video /notebooks/week01_intro/video/rl-video-episode-63.mp4.\n",
      "Moviepy - Writing video /notebooks/week01_intro/video/rl-video-episode-63.mp4\n",
      "\n"
     ]
    },
    {
     "name": "stderr",
     "output_type": "stream",
     "text": [
      "                                                               \r"
     ]
    },
    {
     "name": "stdout",
     "output_type": "stream",
     "text": [
      "Moviepy - Done !\n",
      "Moviepy - video ready /notebooks/week01_intro/video/rl-video-episode-63.mp4\n",
      "Moviepy - Building video /notebooks/week01_intro/video/rl-video-episode-64.mp4.\n",
      "Moviepy - Writing video /notebooks/week01_intro/video/rl-video-episode-64.mp4\n",
      "\n"
     ]
    },
    {
     "name": "stderr",
     "output_type": "stream",
     "text": [
      "                                                             \r"
     ]
    },
    {
     "name": "stdout",
     "output_type": "stream",
     "text": [
      "Moviepy - Done !\n",
      "Moviepy - video ready /notebooks/week01_intro/video/rl-video-episode-64.mp4\n",
      "Moviepy - Building video /notebooks/week01_intro/video/rl-video-episode-65.mp4.\n",
      "Moviepy - Writing video /notebooks/week01_intro/video/rl-video-episode-65.mp4\n",
      "\n"
     ]
    },
    {
     "name": "stderr",
     "output_type": "stream",
     "text": [
      "                                                               \r"
     ]
    },
    {
     "name": "stdout",
     "output_type": "stream",
     "text": [
      "Moviepy - Done !\n",
      "Moviepy - video ready /notebooks/week01_intro/video/rl-video-episode-65.mp4\n",
      "Moviepy - Building video /notebooks/week01_intro/video/rl-video-episode-66.mp4.\n",
      "Moviepy - Writing video /notebooks/week01_intro/video/rl-video-episode-66.mp4\n",
      "\n"
     ]
    },
    {
     "name": "stderr",
     "output_type": "stream",
     "text": [
      "                                                               \r"
     ]
    },
    {
     "name": "stdout",
     "output_type": "stream",
     "text": [
      "Moviepy - Done !\n",
      "Moviepy - video ready /notebooks/week01_intro/video/rl-video-episode-66.mp4\n",
      "Moviepy - Building video /notebooks/week01_intro/video/rl-video-episode-67.mp4.\n",
      "Moviepy - Writing video /notebooks/week01_intro/video/rl-video-episode-67.mp4\n",
      "\n"
     ]
    },
    {
     "name": "stderr",
     "output_type": "stream",
     "text": [
      "                                                              \r"
     ]
    },
    {
     "name": "stdout",
     "output_type": "stream",
     "text": [
      "Moviepy - Done !\n",
      "Moviepy - video ready /notebooks/week01_intro/video/rl-video-episode-67.mp4\n",
      "Moviepy - Building video /notebooks/week01_intro/video/rl-video-episode-68.mp4.\n",
      "Moviepy - Writing video /notebooks/week01_intro/video/rl-video-episode-68.mp4\n",
      "\n"
     ]
    },
    {
     "name": "stderr",
     "output_type": "stream",
     "text": [
      "                                                               \r"
     ]
    },
    {
     "name": "stdout",
     "output_type": "stream",
     "text": [
      "Moviepy - Done !\n",
      "Moviepy - video ready /notebooks/week01_intro/video/rl-video-episode-68.mp4\n",
      "Moviepy - Building video /notebooks/week01_intro/video/rl-video-episode-69.mp4.\n",
      "Moviepy - Writing video /notebooks/week01_intro/video/rl-video-episode-69.mp4\n",
      "\n"
     ]
    },
    {
     "name": "stderr",
     "output_type": "stream",
     "text": [
      "                                                               \r"
     ]
    },
    {
     "name": "stdout",
     "output_type": "stream",
     "text": [
      "Moviepy - Done !\n",
      "Moviepy - video ready /notebooks/week01_intro/video/rl-video-episode-69.mp4\n",
      "Moviepy - Building video /notebooks/week01_intro/video/rl-video-episode-70.mp4.\n",
      "Moviepy - Writing video /notebooks/week01_intro/video/rl-video-episode-70.mp4\n",
      "\n"
     ]
    },
    {
     "name": "stderr",
     "output_type": "stream",
     "text": [
      "                                                               \r"
     ]
    },
    {
     "name": "stdout",
     "output_type": "stream",
     "text": [
      "Moviepy - Done !\n",
      "Moviepy - video ready /notebooks/week01_intro/video/rl-video-episode-70.mp4\n",
      "Moviepy - Building video /notebooks/week01_intro/video/rl-video-episode-71.mp4.\n",
      "Moviepy - Writing video /notebooks/week01_intro/video/rl-video-episode-71.mp4\n",
      "\n"
     ]
    },
    {
     "name": "stderr",
     "output_type": "stream",
     "text": [
      "                                                               \r"
     ]
    },
    {
     "name": "stdout",
     "output_type": "stream",
     "text": [
      "Moviepy - Done !\n",
      "Moviepy - video ready /notebooks/week01_intro/video/rl-video-episode-71.mp4\n",
      "Moviepy - Building video /notebooks/week01_intro/video/rl-video-episode-72.mp4.\n",
      "Moviepy - Writing video /notebooks/week01_intro/video/rl-video-episode-72.mp4\n",
      "\n"
     ]
    },
    {
     "name": "stderr",
     "output_type": "stream",
     "text": [
      "                                                               \r"
     ]
    },
    {
     "name": "stdout",
     "output_type": "stream",
     "text": [
      "Moviepy - Done !\n",
      "Moviepy - video ready /notebooks/week01_intro/video/rl-video-episode-72.mp4\n",
      "Moviepy - Building video /notebooks/week01_intro/video/rl-video-episode-73.mp4.\n",
      "Moviepy - Writing video /notebooks/week01_intro/video/rl-video-episode-73.mp4\n",
      "\n"
     ]
    },
    {
     "name": "stderr",
     "output_type": "stream",
     "text": [
      "                                                               \r"
     ]
    },
    {
     "name": "stdout",
     "output_type": "stream",
     "text": [
      "Moviepy - Done !\n",
      "Moviepy - video ready /notebooks/week01_intro/video/rl-video-episode-73.mp4\n",
      "Moviepy - Building video /notebooks/week01_intro/video/rl-video-episode-74.mp4.\n",
      "Moviepy - Writing video /notebooks/week01_intro/video/rl-video-episode-74.mp4\n",
      "\n"
     ]
    },
    {
     "name": "stderr",
     "output_type": "stream",
     "text": [
      "                                                               \r"
     ]
    },
    {
     "name": "stdout",
     "output_type": "stream",
     "text": [
      "Moviepy - Done !\n",
      "Moviepy - video ready /notebooks/week01_intro/video/rl-video-episode-74.mp4\n",
      "Moviepy - Building video /notebooks/week01_intro/video/rl-video-episode-75.mp4.\n",
      "Moviepy - Writing video /notebooks/week01_intro/video/rl-video-episode-75.mp4\n",
      "\n"
     ]
    },
    {
     "name": "stderr",
     "output_type": "stream",
     "text": [
      "                                                               \r"
     ]
    },
    {
     "name": "stdout",
     "output_type": "stream",
     "text": [
      "Moviepy - Done !\n",
      "Moviepy - video ready /notebooks/week01_intro/video/rl-video-episode-75.mp4\n",
      "Moviepy - Building video /notebooks/week01_intro/video/rl-video-episode-76.mp4.\n",
      "Moviepy - Writing video /notebooks/week01_intro/video/rl-video-episode-76.mp4\n",
      "\n"
     ]
    },
    {
     "name": "stderr",
     "output_type": "stream",
     "text": [
      "                                                               \r"
     ]
    },
    {
     "name": "stdout",
     "output_type": "stream",
     "text": [
      "Moviepy - Done !\n",
      "Moviepy - video ready /notebooks/week01_intro/video/rl-video-episode-76.mp4\n",
      "Moviepy - Building video /notebooks/week01_intro/video/rl-video-episode-77.mp4.\n",
      "Moviepy - Writing video /notebooks/week01_intro/video/rl-video-episode-77.mp4\n",
      "\n"
     ]
    },
    {
     "name": "stderr",
     "output_type": "stream",
     "text": [
      "                                                               \r"
     ]
    },
    {
     "name": "stdout",
     "output_type": "stream",
     "text": [
      "Moviepy - Done !\n",
      "Moviepy - video ready /notebooks/week01_intro/video/rl-video-episode-77.mp4\n",
      "Moviepy - Building video /notebooks/week01_intro/video/rl-video-episode-78.mp4.\n",
      "Moviepy - Writing video /notebooks/week01_intro/video/rl-video-episode-78.mp4\n",
      "\n"
     ]
    },
    {
     "name": "stderr",
     "output_type": "stream",
     "text": [
      "                                                               \r"
     ]
    },
    {
     "name": "stdout",
     "output_type": "stream",
     "text": [
      "Moviepy - Done !\n",
      "Moviepy - video ready /notebooks/week01_intro/video/rl-video-episode-78.mp4\n",
      "Moviepy - Building video /notebooks/week01_intro/video/rl-video-episode-79.mp4.\n",
      "Moviepy - Writing video /notebooks/week01_intro/video/rl-video-episode-79.mp4\n",
      "\n"
     ]
    },
    {
     "name": "stderr",
     "output_type": "stream",
     "text": [
      "                                                               \r"
     ]
    },
    {
     "name": "stdout",
     "output_type": "stream",
     "text": [
      "Moviepy - Done !\n",
      "Moviepy - video ready /notebooks/week01_intro/video/rl-video-episode-79.mp4\n",
      "Moviepy - Building video /notebooks/week01_intro/video/rl-video-episode-80.mp4.\n",
      "Moviepy - Writing video /notebooks/week01_intro/video/rl-video-episode-80.mp4\n",
      "\n"
     ]
    },
    {
     "name": "stderr",
     "output_type": "stream",
     "text": [
      "                                                               \r"
     ]
    },
    {
     "name": "stdout",
     "output_type": "stream",
     "text": [
      "Moviepy - Done !\n",
      "Moviepy - video ready /notebooks/week01_intro/video/rl-video-episode-80.mp4\n",
      "Moviepy - Building video /notebooks/week01_intro/video/rl-video-episode-81.mp4.\n",
      "Moviepy - Writing video /notebooks/week01_intro/video/rl-video-episode-81.mp4\n",
      "\n"
     ]
    },
    {
     "name": "stderr",
     "output_type": "stream",
     "text": [
      "                                                               \r"
     ]
    },
    {
     "name": "stdout",
     "output_type": "stream",
     "text": [
      "Moviepy - Done !\n",
      "Moviepy - video ready /notebooks/week01_intro/video/rl-video-episode-81.mp4\n",
      "Moviepy - Building video /notebooks/week01_intro/video/rl-video-episode-82.mp4.\n",
      "Moviepy - Writing video /notebooks/week01_intro/video/rl-video-episode-82.mp4\n",
      "\n"
     ]
    },
    {
     "name": "stderr",
     "output_type": "stream",
     "text": [
      "                                                               \r"
     ]
    },
    {
     "name": "stdout",
     "output_type": "stream",
     "text": [
      "Moviepy - Done !\n",
      "Moviepy - video ready /notebooks/week01_intro/video/rl-video-episode-82.mp4\n",
      "Moviepy - Building video /notebooks/week01_intro/video/rl-video-episode-83.mp4.\n",
      "Moviepy - Writing video /notebooks/week01_intro/video/rl-video-episode-83.mp4\n",
      "\n"
     ]
    },
    {
     "name": "stderr",
     "output_type": "stream",
     "text": [
      "                                                               \r"
     ]
    },
    {
     "name": "stdout",
     "output_type": "stream",
     "text": [
      "Moviepy - Done !\n",
      "Moviepy - video ready /notebooks/week01_intro/video/rl-video-episode-83.mp4\n",
      "Moviepy - Building video /notebooks/week01_intro/video/rl-video-episode-84.mp4.\n",
      "Moviepy - Writing video /notebooks/week01_intro/video/rl-video-episode-84.mp4\n",
      "\n"
     ]
    },
    {
     "name": "stderr",
     "output_type": "stream",
     "text": [
      "                                                               \r"
     ]
    },
    {
     "name": "stdout",
     "output_type": "stream",
     "text": [
      "Moviepy - Done !\n",
      "Moviepy - video ready /notebooks/week01_intro/video/rl-video-episode-84.mp4\n",
      "Moviepy - Building video /notebooks/week01_intro/video/rl-video-episode-85.mp4.\n",
      "Moviepy - Writing video /notebooks/week01_intro/video/rl-video-episode-85.mp4\n",
      "\n"
     ]
    },
    {
     "name": "stderr",
     "output_type": "stream",
     "text": [
      "                                                               \r"
     ]
    },
    {
     "name": "stdout",
     "output_type": "stream",
     "text": [
      "Moviepy - Done !\n",
      "Moviepy - video ready /notebooks/week01_intro/video/rl-video-episode-85.mp4\n",
      "Moviepy - Building video /notebooks/week01_intro/video/rl-video-episode-86.mp4.\n",
      "Moviepy - Writing video /notebooks/week01_intro/video/rl-video-episode-86.mp4\n",
      "\n"
     ]
    },
    {
     "name": "stderr",
     "output_type": "stream",
     "text": [
      "                                                               \r"
     ]
    },
    {
     "name": "stdout",
     "output_type": "stream",
     "text": [
      "Moviepy - Done !\n",
      "Moviepy - video ready /notebooks/week01_intro/video/rl-video-episode-86.mp4\n",
      "Moviepy - Building video /notebooks/week01_intro/video/rl-video-episode-87.mp4.\n",
      "Moviepy - Writing video /notebooks/week01_intro/video/rl-video-episode-87.mp4\n",
      "\n"
     ]
    },
    {
     "name": "stderr",
     "output_type": "stream",
     "text": [
      "                                                               \r"
     ]
    },
    {
     "name": "stdout",
     "output_type": "stream",
     "text": [
      "Moviepy - Done !\n",
      "Moviepy - video ready /notebooks/week01_intro/video/rl-video-episode-87.mp4\n",
      "Moviepy - Building video /notebooks/week01_intro/video/rl-video-episode-88.mp4.\n",
      "Moviepy - Writing video /notebooks/week01_intro/video/rl-video-episode-88.mp4\n",
      "\n"
     ]
    },
    {
     "name": "stderr",
     "output_type": "stream",
     "text": [
      "                                                               \r"
     ]
    },
    {
     "name": "stdout",
     "output_type": "stream",
     "text": [
      "Moviepy - Done !\n",
      "Moviepy - video ready /notebooks/week01_intro/video/rl-video-episode-88.mp4\n",
      "Moviepy - Building video /notebooks/week01_intro/video/rl-video-episode-89.mp4.\n",
      "Moviepy - Writing video /notebooks/week01_intro/video/rl-video-episode-89.mp4\n",
      "\n"
     ]
    },
    {
     "name": "stderr",
     "output_type": "stream",
     "text": [
      "                                                               \r"
     ]
    },
    {
     "name": "stdout",
     "output_type": "stream",
     "text": [
      "Moviepy - Done !\n",
      "Moviepy - video ready /notebooks/week01_intro/video/rl-video-episode-89.mp4\n",
      "Moviepy - Building video /notebooks/week01_intro/video/rl-video-episode-90.mp4.\n",
      "Moviepy - Writing video /notebooks/week01_intro/video/rl-video-episode-90.mp4\n",
      "\n"
     ]
    },
    {
     "name": "stderr",
     "output_type": "stream",
     "text": [
      "                                                              \r"
     ]
    },
    {
     "name": "stdout",
     "output_type": "stream",
     "text": [
      "Moviepy - Done !\n",
      "Moviepy - video ready /notebooks/week01_intro/video/rl-video-episode-90.mp4\n",
      "Moviepy - Building video /notebooks/week01_intro/video/rl-video-episode-91.mp4.\n",
      "Moviepy - Writing video /notebooks/week01_intro/video/rl-video-episode-91.mp4\n",
      "\n"
     ]
    },
    {
     "name": "stderr",
     "output_type": "stream",
     "text": [
      "                                                              \r"
     ]
    },
    {
     "name": "stdout",
     "output_type": "stream",
     "text": [
      "Moviepy - Done !\n",
      "Moviepy - video ready /notebooks/week01_intro/video/rl-video-episode-91.mp4\n",
      "Moviepy - Building video /notebooks/week01_intro/video/rl-video-episode-92.mp4.\n",
      "Moviepy - Writing video /notebooks/week01_intro/video/rl-video-episode-92.mp4\n",
      "\n"
     ]
    },
    {
     "name": "stderr",
     "output_type": "stream",
     "text": [
      "                                                             \r"
     ]
    },
    {
     "name": "stdout",
     "output_type": "stream",
     "text": [
      "Moviepy - Done !\n",
      "Moviepy - video ready /notebooks/week01_intro/video/rl-video-episode-92.mp4\n",
      "Moviepy - Building video /notebooks/week01_intro/video/rl-video-episode-93.mp4.\n",
      "Moviepy - Writing video /notebooks/week01_intro/video/rl-video-episode-93.mp4\n",
      "\n"
     ]
    },
    {
     "name": "stderr",
     "output_type": "stream",
     "text": [
      "                                                               \r"
     ]
    },
    {
     "name": "stdout",
     "output_type": "stream",
     "text": [
      "Moviepy - Done !\n",
      "Moviepy - video ready /notebooks/week01_intro/video/rl-video-episode-93.mp4\n",
      "Moviepy - Building video /notebooks/week01_intro/video/rl-video-episode-94.mp4.\n",
      "Moviepy - Writing video /notebooks/week01_intro/video/rl-video-episode-94.mp4\n",
      "\n"
     ]
    },
    {
     "name": "stderr",
     "output_type": "stream",
     "text": [
      "                                                               \r"
     ]
    },
    {
     "name": "stdout",
     "output_type": "stream",
     "text": [
      "Moviepy - Done !\n",
      "Moviepy - video ready /notebooks/week01_intro/video/rl-video-episode-94.mp4\n",
      "Moviepy - Building video /notebooks/week01_intro/video/rl-video-episode-95.mp4.\n",
      "Moviepy - Writing video /notebooks/week01_intro/video/rl-video-episode-95.mp4\n",
      "\n"
     ]
    },
    {
     "name": "stderr",
     "output_type": "stream",
     "text": [
      "                                                               \r"
     ]
    },
    {
     "name": "stdout",
     "output_type": "stream",
     "text": [
      "Moviepy - Done !\n",
      "Moviepy - video ready /notebooks/week01_intro/video/rl-video-episode-95.mp4\n",
      "Moviepy - Building video /notebooks/week01_intro/video/rl-video-episode-96.mp4.\n",
      "Moviepy - Writing video /notebooks/week01_intro/video/rl-video-episode-96.mp4\n",
      "\n"
     ]
    },
    {
     "name": "stderr",
     "output_type": "stream",
     "text": [
      "                                                              \r"
     ]
    },
    {
     "name": "stdout",
     "output_type": "stream",
     "text": [
      "Moviepy - Done !\n",
      "Moviepy - video ready /notebooks/week01_intro/video/rl-video-episode-96.mp4\n",
      "Moviepy - Building video /notebooks/week01_intro/video/rl-video-episode-97.mp4.\n",
      "Moviepy - Writing video /notebooks/week01_intro/video/rl-video-episode-97.mp4\n",
      "\n"
     ]
    },
    {
     "name": "stderr",
     "output_type": "stream",
     "text": [
      "                                                              \r"
     ]
    },
    {
     "name": "stdout",
     "output_type": "stream",
     "text": [
      "Moviepy - Done !\n",
      "Moviepy - video ready /notebooks/week01_intro/video/rl-video-episode-97.mp4\n",
      "Moviepy - Building video /notebooks/week01_intro/video/rl-video-episode-98.mp4.\n",
      "Moviepy - Writing video /notebooks/week01_intro/video/rl-video-episode-98.mp4\n",
      "\n"
     ]
    },
    {
     "name": "stderr",
     "output_type": "stream",
     "text": [
      "                                                              \r"
     ]
    },
    {
     "name": "stdout",
     "output_type": "stream",
     "text": [
      "Moviepy - Done !\n",
      "Moviepy - video ready /notebooks/week01_intro/video/rl-video-episode-98.mp4\n",
      "Moviepy - Building video /notebooks/week01_intro/video/rl-video-episode-99.mp4.\n",
      "Moviepy - Writing video /notebooks/week01_intro/video/rl-video-episode-99.mp4\n",
      "\n"
     ]
    },
    {
     "name": "stderr",
     "output_type": "stream",
     "text": [
      "                                                               "
     ]
    },
    {
     "name": "stdout",
     "output_type": "stream",
     "text": [
      "Moviepy - Done !\n",
      "Moviepy - video ready /notebooks/week01_intro/video/rl-video-episode-99.mp4\n"
     ]
    },
    {
     "name": "stderr",
     "output_type": "stream",
     "text": [
      "\r"
     ]
    }
   ],
   "source": [
    "with RecordVideo(\n",
    "    env=gym.make(\"CartPole-v0\", render_mode=\"rgb_array\"),\n",
    "    video_folder=\"video\",\n",
    "    episode_trigger=lambda episode_number: True,\n",
    ") as env_monitor:\n",
    "    sessions = [generate_session(env_monitor, agent) for _ in range(100)]\n"
   ]
  },
  {
   "cell_type": "code",
   "execution_count": 19,
   "metadata": {
    "id": "kLPXdME7G9zN"
   },
   "outputs": [
    {
     "data": {
      "text/html": [
       "\n",
       "<video width=\"640\" height=\"480\" controls>\n",
       "  <source src=\"video/rl-video-episode-99.mp4\" type=\"video/mp4\">\n",
       "</video>\n"
      ],
      "text/plain": [
       "<IPython.core.display.HTML object>"
      ]
     },
     "execution_count": 19,
     "metadata": {},
     "output_type": "execute_result"
    }
   ],
   "source": [
    "# Показать видео. В некоторых настройках это может не сработать. Если этого не произойдет\n",
    "# работаем на вас, вы можете загружать видео и просматривать их локально.\n",
    "video_paths = sorted([s for s in Path(\"video\").iterdir() if s.suffix == \".mp4\"])\n",
    "video_path = video_paths[-1]  # You can also try other indices\n",
    "\n",
    "if \"google.colab\" in sys.modules:\n",
    "    # https://stackoverflow.com/a/57378660/1214547\n",
    "    with video_path.open(\"rb\") as fp:\n",
    "        mp4 = fp.read()\n",
    "    data_url = \"data:video/mp4;base64,\" + b64encode(mp4).decode()\n",
    "else:\n",
    "    data_url = str(video_path)\n",
    "\n",
    "HTML(\n",
    "    \"\"\"\n",
    "<video width=\"640\" height=\"480\" controls>\n",
    "  <source src=\"{}\" type=\"video/mp4\">\n",
    "</video>\n",
    "\"\"\".format(\n",
    "        data_url\n",
    "    )\n",
    ")\n"
   ]
  },
  {
   "cell_type": "markdown",
   "metadata": {
    "id": "6d_3oOQ1G9zN"
   },
   "source": [
    "# Домашнее задание, часть I\n",
    "\n",
    "### ### Метод трубчатой перекрестной энтропии\n",
    "\n",
    "Возможно, вы заметили, что задача о такси быстро достигает значения от -100 до почти оптимального, а затем возвращается к значению -50/-100. Отчасти это объясняется тем, что окружающая среда обладает некоторой врожденной хаотичностью. А именно, начальные точки взаимодействия пассажира и водителя меняются от эпизода к эпизоду.\n",
    "\n",
    "### Задачи\n",
    "- __1.1__ (2 пункта) Узнайте, как изменится производительность алгоритма, если вы используете другой \"процентиль\" и/или \"n_sessions\". Приведите здесь несколько цифр, чтобы мы могли увидеть, как гиперпараметры влияют на производительность.\n",
    "- __1.2__ (1 балл) Настройте алгоритм так, чтобы в итоге получить положительный средний балл.\n",
    "\n",
    "Можно изменить существующий код."
   ]
  },
  {
   "cell_type": "markdown",
   "metadata": {
    "id": "L88LySiVG9zN"
   },
   "source": [
    "```<Describe what you did here>```"
   ]
  },
  {
   "cell_type": "markdown",
   "metadata": {
    "id": "7LpAJc4rG9zN"
   },
   "source": [
    "# Домашнее задание, часть II\n",
    "\n",
    "### Метод глубокой кроссэнтропии\n",
    "\n",
    "К этому моменту вы должны набрать достаточное количество баллов по [CartPole-v0](https://gymnasium.farama.org/environments/classic_control/cart_pole/), чтобы считать его решенным (смотрите ссылку). Пришло время попробовать что-нибудь посложнее.\n",
    "\n",
    "* если у вас возникнут какие-либо проблемы с CartPole-v0 и вы почувствуете, что застряли, не стесняйтесь обращаться за помощью к нам или своим коллегам.\n",
    "\n",
    "### Задачи\n",
    "\n",
    "* __2.1__ (3 очка) Выберите одну из сред: \"Маунтинк-кар-v0\" или \"ЛунарЛендер-v2\".\n",
    "  * За Маунтинк-кар получите среднее вознаграждение в размере __не менее -150__\n",
    "  * За лунного жителя получите среднюю награду в размере не менее +50__\n",
    "\n",
    "Ознакомьтесь с разделом советов ниже, это очень важно.\n",
    "__ Примечание:__ Если ваш агент набрал меньше целевого балла, вы все равно получите часть баллов в зависимости от результата, так что не бойтесь подавать заявку.\n",
    "  \n",
    "  \n",
    "* __2.2__ (до 6 пунктов) Разработать способ ускорить обучение по сравнению с версией по умолчанию\n",
    "  * Очевидное улучшение: используйте [`joblib`](https://joblib.readthedocs.io/en/latest/). Однако обратите внимание, что вам, вероятно, потребуется создать новую среду в каждом из рабочих объектов вместо того, чтобы передавать ее через травление. (2 очка)\n",
    "  * Попробуйте повторно использовать выборки из 3-5 последних итераций при вычислении порога и обучении. (2 балла)\n",
    "  * Получите __-100__ в \"MountainCar-v0` или __+200__ в `LunarLander-v2` (2 балла). Не стесняйтесь экспериментировать с гиперпараметрами, архитектурой, графиками и т.д.\n",
    "  \n",
    "__ Пожалуйста, укажите, что вы сделали, в форме отправки любого задания. Это снижает вероятность того, что кто-то что-то пропустит.\n",
    "  \n",
    "  \n",
    "### Советы\n",
    "* Страницы спортзала: [MountainCar](https://gymnasium.farama.org/environments/classic_control/mountain_car/), [LunarLander](https://gymnasium.farama.org/environments/box2d/lunar_lander/)\n",
    "* Сеансы для MountainCar могут длиться более 10 тысяч тактов. Убедитесь, что параметр `t_max` имеет значение не менее 10 тысяч.\n",
    " * Также, возможно, было бы неплохо сократить количество вознаграждений с помощью \">\", а не \">=\". Если 90% ваших сессий получают вознаграждение в размере -10 тысяч, а 10% - это лучше, чем если бы вы использовали процентиль 20% в качестве порогового значения, R >= threshold __ не сможет отсечь плохие сессии, в то время как R > threshold работает нормально.\n",
    "* \"проблема с тренажерным залом\": в некоторых версиях gym время игры ограничено на 200 секунд. В большинстве случаев это предотвратит тренировку cem. Убедитесь, что ваш агент может играть в течение указанного времени, и если это не так, попробуйте `env = gym.make(\"MountainCar-v0\").env` или иным образом удалите оболочку для ограничения времени.\n",
    "* Если вы используете старую _swig_ lib для LunarLander-v2, может возникнуть ошибка. Решение проблемы смотрите в этой статье(https://github.com/openai/gym/issues/100).\n",
    "* Если это не помогает, неплохо бы составить график распределения вознаграждений и записать занятия: возможно, это даст вам какую-то подсказку. Если это не помогает, позвоните сотрудникам курса :)\n",
    "* Сети из 20 нейронов, вероятно, недостаточно, не стесняйтесь экспериментировать.\n",
    "\n",
    "Возможно, следующий фрагмент будет вам полезен:"
   ]
  },
  {
   "cell_type": "code",
   "execution_count": 27,
   "metadata": {
    "id": "qcjz-nm_G9zN"
   },
   "outputs": [
    {
     "name": "stderr",
     "output_type": "stream",
     "text": [
      "/opt/conda/envs/deeplearning/lib/python3.7/site-packages/gymnasium/envs/registration.py:788: UserWarning: \u001b[33mWARN: The environment is being initialised with render_mode='rgb_arrary' that is not in the possible render_modes (['human', 'rgb_array']).\u001b[0m\n",
      "  f\"The environment is being initialised with render_mode={render_mode!r} \"\n"
     ]
    },
    {
     "data": {
      "image/png": "[encoded data removed]",
      "text/plain": [
       "<Figure size 700x700 with 1 Axes>"
      ]
     },
     "metadata": {},
     "output_type": "display_data"
    }
   ],
   "source": [
    "def visualize_mountain_car(env, agent):\n",
    "    # Compute policy for all possible x and v (with discretization)\n",
    "    xs = np.linspace(env.min_position, env.max_position, 100)\n",
    "    vs = np.linspace(-env.max_speed, env.max_speed, 100)\n",
    "\n",
    "    grid = np.dstack(np.meshgrid(xs, vs[::-1])).transpose(1, 0, 2)\n",
    "    grid_flat = grid.reshape(len(xs) * len(vs), 2)\n",
    "    probs = (\n",
    "        agent.predict_proba(grid_flat).reshape(len(xs), len(vs), 3).transpose(1, 0, 2)\n",
    "    )\n",
    "\n",
    "    # # The above code is equivalent to the following:\n",
    "    # probs = np.empty((len(vs), len(xs), 3))\n",
    "    # for i, v in enumerate(vs[::-1]):\n",
    "    #     for j, x in enumerate(xs):\n",
    "    #         probs[i, j, :] = agent.predict_proba([[x, v]])[0]\n",
    "\n",
    "    # Draw policy\n",
    "    f, ax = plt.subplots(figsize=(7, 7))\n",
    "    ax.imshow(\n",
    "        probs,\n",
    "        extent=(env.min_position, env.max_position, -env.max_speed, env.max_speed),\n",
    "        aspect=\"auto\",\n",
    "    )\n",
    "    ax.set_title(\"Learned policy: red=left, green=nothing, blue=right\")\n",
    "    ax.set_xlabel(\"position (x)\")\n",
    "    ax.set_ylabel(\"velocity (v)\")\n",
    "\n",
    "    # Sample a trajectory and draw it\n",
    "    states, actions, _ = generate_session(env, agent)\n",
    "    states = np.array(states)\n",
    "    ax.plot(states[:, 0], states[:, 1], color=\"white\")\n",
    "\n",
    "    # Draw every 3rd action from the trajectory\n",
    "    for (x, v), a in zip(states[::3], actions[::3]):\n",
    "        if a == 0:\n",
    "            plt.arrow(x, v, -0.1, 0, color=\"white\", head_length=0.02)\n",
    "        elif a == 2:\n",
    "            plt.arrow(x, v, 0.1, 0, color=\"white\", head_length=0.02)\n",
    "\n",
    "X_train = np.random.rand(1000, 2)  # Позиция и скорость\n",
    "y_train = np.random.randint(0, 3, size=1000)  # Действия: {0, 1, 2}\n",
    "\n",
    "agent = MLPClassifier(hidden_layer_sizes=(10,), max_iter=1000)\n",
    "agent.fit(X_train, y_train)\n",
    "with gym.make(\"MountainCar-v0\", render_mode=\"rgb_arrary\").env as env:\n",
    "    visualize_mountain_car(env, agent)\n"
   ]
  },
  {
   "cell_type": "markdown",
   "metadata": {
    "id": "Dzk41lDPG9zO"
   },
   "source": [
    "### Бонусные задания\n",
    "\n",
    "* __* __2.3 бонусные задания (2 балла) Попытайтесь найти сетевую архитектуру и параметры обучения, которые решают обе указанные выше задачи (баллы зависят от реализации. Если вы пытались выполнить это задание, пожалуйста, укажите это при отправке любого задания._)\n",
    "\n",
    "* __2.4 бонус__ (4 балла) Решите задачу continuous action space с помощью `MLPRegressor` или аналогичного.\n",
    "  * Поскольку ваш агент предсказывает только \"ожидаемое\" действие, вам придется добавить шума, чтобы обеспечить разведку.\n",
    "  * Выберите один из [MountainCarContinuous-v0](https://gymnasium.farama.org/environments/classic_control/mountain_car_continuous/) (более 90 пунктов для решения), [LunarLanderContinuous-v2](https://gymnasium.farama.org/environments/box2d/lunar_lander /) (`env = gym.make(\"LunarLander-v2\", continuous=True)\") (нужно решить более 200 задач)\n",
    "  * 4 балла за решение. Немного меньше за получение результатов ниже порога решения. Обратите внимание, что в дискретной и непрерывной средах могут быть немного разные правила, помимо пространств действий."
   ]
  }
 ],
 "metadata": {
  "colab": {
   "provenance": []
  },
  "kernelspec": {
   "display_name": "Python 3",
   "language": "python",
   "name": "python3"
  },
  "language_info": {
   "codemirror_mode": {
    "name": "ipython",
    "version": 3
   },
   "file_extension": ".py",
   "mimetype": "text/x-python",
   "name": "python",
   "nbconvert_exporter": "python",
   "pygments_lexer": "ipython3",
   "version": "3.7.7"
  }
 },
 "nbformat": 4,
 "nbformat_minor": 1
}
